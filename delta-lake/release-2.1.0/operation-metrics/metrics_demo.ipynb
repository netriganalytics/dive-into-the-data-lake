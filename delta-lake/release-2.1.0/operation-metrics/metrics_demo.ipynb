{
 "cells": [
  {
   "cell_type": "code",
   "execution_count": 1,
   "id": "359661b6-a54a-48e8-a0da-f241b3024e48",
   "metadata": {},
   "outputs": [],
   "source": [
    "from pyspark.sql import SparkSession\n",
    "from delta import *"
   ]
  },
  {
   "cell_type": "code",
   "execution_count": 2,
   "id": "0c158e8e-3235-4635-95b2-f5151423e712",
   "metadata": {},
   "outputs": [
    {
     "name": "stdout",
     "output_type": "stream",
     "text": [
      ":: loading settings :: url = jar:file:/Users/wgirten/anaconda/envs/jupyterlab/lib/python3.8/site-packages/pyspark/jars/ivy-2.5.0.jar!/org/apache/ivy/core/settings/ivysettings.xml\n"
     ]
    },
    {
     "name": "stderr",
     "output_type": "stream",
     "text": [
      "Ivy Default Cache set to: /Users/wgirten/.ivy2/cache\n",
      "The jars for the packages stored in: /Users/wgirten/.ivy2/jars\n",
      "io.delta#delta-core_2.12 added as a dependency\n",
      ":: resolving dependencies :: org.apache.spark#spark-submit-parent-bae32a0e-9951-43ff-befa-b320d33f1294;1.0\n",
      "\tconfs: [default]\n",
      "\tfound io.delta#delta-core_2.12;2.1.0 in central\n",
      "\tfound io.delta#delta-storage;2.1.0 in central\n",
      "\tfound org.antlr#antlr4-runtime;4.8 in central\n",
      "\tfound org.codehaus.jackson#jackson-core-asl;1.9.13 in central\n",
      ":: resolution report :: resolve 143ms :: artifacts dl 6ms\n",
      "\t:: modules in use:\n",
      "\tio.delta#delta-core_2.12;2.1.0 from central in [default]\n",
      "\tio.delta#delta-storage;2.1.0 from central in [default]\n",
      "\torg.antlr#antlr4-runtime;4.8 from central in [default]\n",
      "\torg.codehaus.jackson#jackson-core-asl;1.9.13 from central in [default]\n",
      "\t---------------------------------------------------------------------\n",
      "\t|                  |            modules            ||   artifacts   |\n",
      "\t|       conf       | number| search|dwnlded|evicted|| number|dwnlded|\n",
      "\t---------------------------------------------------------------------\n",
      "\t|      default     |   4   |   0   |   0   |   0   ||   4   |   0   |\n",
      "\t---------------------------------------------------------------------\n",
      ":: retrieving :: org.apache.spark#spark-submit-parent-bae32a0e-9951-43ff-befa-b320d33f1294\n",
      "\tconfs: [default]\n",
      "\t0 artifacts copied, 4 already retrieved (0kB/6ms)\n"
     ]
    },
    {
     "name": "stdout",
     "output_type": "stream",
     "text": [
      "22/09/28 12:09:15 WARN NativeCodeLoader: Unable to load native-hadoop library for your platform... using builtin-java classes where applicable\n"
     ]
    },
    {
     "name": "stderr",
     "output_type": "stream",
     "text": [
      "Setting default log level to \"WARN\".\n",
      "To adjust logging level use sc.setLogLevel(newLevel). For SparkR, use setLogLevel(newLevel).\n"
     ]
    }
   ],
   "source": [
    "builder = SparkSession.builder.appName(\"MetricsOutputDemo\") \\\n",
    "    .config(\"spark.sql.extensions\", \"io.delta.sql.DeltaSparkSessionExtension\") \\\n",
    "    .config(\"spark.sql.catalog.spark_catalog\", \"org.apache.spark.sql.delta.catalog.DeltaCatalog\")\\\n",
    "    .config(\"spark.sql.debug.maxToStringFields\", \"1000\")\n",
    "\n",
    "spark = configure_spark_with_delta_pip(builder).getOrCreate()"
   ]
  },
  {
   "cell_type": "code",
   "execution_count": 3,
   "id": "7b19611e-fcc5-4ffa-adb8-8c74f97aeda8",
   "metadata": {},
   "outputs": [
    {
     "name": "stderr",
     "output_type": "stream",
     "text": [
      "                                                                                \r"
     ]
    },
    {
     "data": {
      "text/plain": [
       "<delta.tables.DeltaTable at 0x105abe820>"
      ]
     },
     "execution_count": 3,
     "metadata": {},
     "output_type": "execute_result"
    }
   ],
   "source": [
    "DeltaTable.createIfNotExists(spark) \\\n",
    "    .tableName(\"default.airbnb_nyc\") \\\n",
    "    .addColumn(\"listing_id\", \"INT\") \\\n",
    "    .addColumn(\"description\", \"STRING\") \\\n",
    "    .addColumn(\"neighbourhood_group\", \"STRING\") \\\n",
    "    .addColumn(\"neighbourhood\", \"STRING\") \\\n",
    "    .addColumn(\"room_type\", \"STRING\") \\\n",
    "    .addColumn(\"price\", \"INT\") \\\n",
    "    .execute()"
   ]
  },
  {
   "cell_type": "code",
   "execution_count": 4,
   "id": "1c416fbf-83b3-466f-bbd1-168f630a2df8",
   "metadata": {},
   "outputs": [],
   "source": [
    "# NYC Airbnb open dataset:\n",
    "# https://www.kaggle.com/datasets/dgomonov/new-york-city-airbnb-open-data?select=AB_NYC_2019.csv\n",
    "listings_data_1 = [\n",
    "    (2539,'Clean & quiet apt home by the park','Brooklyn','Kensington','Private room',149),\n",
    "    (5121,'BlissArtsSpace!','Brooklyn','Bedford-Stuyvesant','Private room',60),\n",
    "    (5178,'Large Furnished Room Near Bway' ,'Manhattan','Hells Kitchen','Private room',79),\n",
    "    (5203,'Cozy Clean Guest Room - Family Apt','Manhattan','Upper West Side','Private room',79),\n",
    "    (5238,'Cute & Cozy Lower East Side 1 bdrm','Manhattan','Chinatown','Entire home/apt',150)\n",
    "]\n",
    "listings_data_2 = [\n",
    "    (2539,'Price Reduced! Clean & quiet apt home by the park','Brooklyn','Kensington','Private room',135),\n",
    "    (2595,'Skylit Midtown Castle','Manhattan','Midtown','Entire home/apt',225),\n",
    "    (3647,'THE VILLAGE OF HARLEM....NEW YORK !','Manhattan','Harlem','Private room',150),\n",
    "    (3831,'Cozy Entire Floor of Brownstone','Brooklyn','Clinton Hill','Entire home/apt',89),\n",
    "    (5022,'Entire Apt: Spacious Studio/Loft by central park','Manhattan','East Harlem','Entire home/apt',80)\n",
    "]\n",
    "schema = 'listing_id int, description string, neighbourhood_group string, ' \\\n",
    "         'neighbourhood string, room_type string, price int'"
   ]
  },
  {
   "cell_type": "code",
   "execution_count": 5,
   "id": "d2118284-0ed9-47c0-a885-465d85c2cb99",
   "metadata": {},
   "outputs": [
    {
     "name": "stderr",
     "output_type": "stream",
     "text": [
      "                                                                                \r"
     ]
    },
    {
     "name": "stdout",
     "output_type": "stream",
     "text": [
      "+----------+--------------------+-------------------+------------------+---------------+-----+\n",
      "|listing_id|         description|neighbourhood_group|     neighbourhood|      room_type|price|\n",
      "+----------+--------------------+-------------------+------------------+---------------+-----+\n",
      "|      2539|Clean & quiet apt...|           Brooklyn|        Kensington|   Private room|  149|\n",
      "|      5121|     BlissArtsSpace!|           Brooklyn|Bedford-Stuyvesant|   Private room|   60|\n",
      "|      5178|Large Furnished R...|          Manhattan|     Hells Kitchen|   Private room|   79|\n",
      "|      5203|Cozy Clean Guest ...|          Manhattan|   Upper West Side|   Private room|   79|\n",
      "|      5238|Cute & Cozy Lower...|          Manhattan|         Chinatown|Entire home/apt|  150|\n",
      "+----------+--------------------+-------------------+------------------+---------------+-----+\n",
      "\n"
     ]
    }
   ],
   "source": [
    "listings_df = spark.createDataFrame(listings_data_1, schema)\n",
    "listings_df.write.format(\"delta\").mode(\"append\").saveAsTable(\"default.airbnb_nyc\")\n",
    "listings_df.show()"
   ]
  },
  {
   "cell_type": "code",
   "execution_count": 6,
   "id": "8ac4672d-3e1d-483a-8efa-38029eeafb09",
   "metadata": {},
   "outputs": [
    {
     "name": "stdout",
     "output_type": "stream",
     "text": [
      "+-----------------+\n",
      "|num_affected_rows|\n",
      "+-----------------+\n",
      "|                1|\n",
      "+-----------------+\n",
      "\n"
     ]
    }
   ],
   "source": [
    "spark.sql(\"\"\"\n",
    "   UPDATE airbnb_nyc\n",
    "      SET description='Blissful Art Space!'\n",
    "    WHERE listing_id=5121\n",
    "\"\"\").show()"
   ]
  },
  {
   "cell_type": "code",
   "execution_count": 7,
   "id": "4e9a3888-e185-4136-89e6-07dadb666590",
   "metadata": {},
   "outputs": [
    {
     "name": "stdout",
     "output_type": "stream",
     "text": [
      "+-----------------+\n",
      "|num_affected_rows|\n",
      "+-----------------+\n",
      "|                1|\n",
      "+-----------------+\n",
      "\n"
     ]
    }
   ],
   "source": [
    "spark.sql(f\"\"\"\n",
    "  DELETE FROM airbnb_nyc\n",
    "   WHERE neighbourhood='Hells Kitchen'\n",
    "  \"\"\").show()"
   ]
  },
  {
   "cell_type": "code",
   "execution_count": 8,
   "id": "2ec2f7eb-2a76-4316-b209-d512000141ed",
   "metadata": {},
   "outputs": [
    {
     "name": "stdout",
     "output_type": "stream",
     "text": [
      "+-----------------+----------------+----------------+-----------------+\n",
      "|num_affected_rows|num_updated_rows|num_deleted_rows|num_inserted_rows|\n",
      "+-----------------+----------------+----------------+-----------------+\n",
      "|                5|               1|               0|                4|\n",
      "+-----------------+----------------+----------------+-----------------+\n",
      "\n"
     ]
    }
   ],
   "source": [
    "spark.createDataFrame(listings_data_2, schema).createOrReplaceTempView(\"change_set\")\n",
    "spark.sql(\"\"\"\n",
    "   MERGE INTO airbnb_nyc AS target\n",
    "      USING change_set AS source\n",
    "      ON source.listing_id = target.listing_id\n",
    "      WHEN MATCHED THEN UPDATE SET *\n",
    "      WHEN NOT MATCHED THEN INSERT *\n",
    "\"\"\").show()"
   ]
  },
  {
   "cell_type": "code",
   "execution_count": null,
   "id": "6d2e7051-ec0e-4366-a2bb-cce33d400029",
   "metadata": {},
   "outputs": [],
   "source": []
  }
 ],
 "metadata": {
  "kernelspec": {
   "display_name": "Python 3 (ipykernel)",
   "language": "python",
   "name": "python3"
  },
  "language_info": {
   "codemirror_mode": {
    "name": "ipython",
    "version": 3
   },
   "file_extension": ".py",
   "mimetype": "text/x-python",
   "name": "python",
   "nbconvert_exporter": "python",
   "pygments_lexer": "ipython3",
   "version": "3.8.13"
  }
 },
 "nbformat": 4,
 "nbformat_minor": 5
}
